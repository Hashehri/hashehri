{
  "nbformat": 4,
  "nbformat_minor": 0,
  "metadata": {
    "colab": {
      "name": "Arabic Classification.ipynb",
      "provenance": [],
      "toc_visible": true,
      "include_colab_link": true
    },
    "kernelspec": {
      "name": "python3",
      "display_name": "Python 3"
    },
    "language_info": {
      "name": "python"
    }
  },
  "cells": [
    {
      "cell_type": "markdown",
      "metadata": {
        "id": "view-in-github",
        "colab_type": "text"
      },
      "source": [
        "<a href=\"https://colab.research.google.com/github/Hashehri/hashehri/blob/main/Arabic_Classification.ipynb\" target=\"_parent\"><img src=\"https://colab.research.google.com/assets/colab-badge.svg\" alt=\"Open In Colab\"/></a>"
      ]
    },
    {
      "cell_type": "markdown",
      "metadata": {
        "id": "08fTI-PcWQSp"
      },
      "source": [
        "Data from\n",
        "\n",
        "https://www.kaggle.com/saurabhshahane/arabic-classification \n",
        "\n",
        "\n",
        "https://data.mendeley.com/datasets/v524p5dhpj/2\n",
        "\n",
        "\n",
        "Code from \n",
        "\n",
        "https://www.kaggle.com/khalilalla/textmining-project"
      ]
    },
    {
      "cell_type": "markdown",
      "metadata": {
        "id": "a_Oyg3gPYBm-"
      },
      "source": [
        "Go to the session storage, click upload\n",
        "\n",
        "Locate the file and upload it, there will be a notification that the file will be deleted when the session ends.\n"
      ]
    },
    {
      "cell_type": "code",
      "metadata": {
        "id": "XUavShHOacrk"
      },
      "source": [
        "import pandas as pd\n",
        "df = pd.read_csv('/content/arabic_dataset_classifiction.csv', encoding = 'utf8')"
      ],
      "execution_count": null,
      "outputs": []
    },
    {
      "cell_type": "code",
      "metadata": {
        "colab": {
          "base_uri": "https://localhost:8080/"
        },
        "id": "y7m-YmehO-Is",
        "outputId": "61eeff79-3b7d-42fe-dbf6-d2608370720b"
      },
      "source": [
        "import numpy as np\n",
        "print(np.sum(df.isnull().any(axis=1)))\n",
        "clean_df = df.dropna()\n",
        "print(np.sum(clean_df.isnull().any(axis=1)))"
      ],
      "execution_count": null,
      "outputs": [
        {
          "output_type": "stream",
          "name": "stdout",
          "text": [
            "2939\n",
            "0\n"
          ]
        }
      ]
    },
    {
      "cell_type": "code",
      "metadata": {
        "colab": {
          "base_uri": "https://localhost:8080/"
        },
        "id": "JNtdQ14xPTQZ",
        "outputId": "d8673fc4-b102-49dd-a21b-c845183d0684"
      },
      "source": [
        "import nltk \n",
        "nltk.download('stopwords')\n",
        "from nltk.corpus import stopwords\n",
        "from nltk.tokenize import word_tokenize\n",
        "from nltk.tokenize import RegexpTokenizer\n",
        "from nltk.stem.isri import ISRIStemmer\n",
        "\n",
        "import re\n",
        "import string"
      ],
      "execution_count": null,
      "outputs": [
        {
          "output_type": "stream",
          "name": "stdout",
          "text": [
            "[nltk_data] Downloading package stopwords to /root/nltk_data...\n",
            "[nltk_data]   Package stopwords is already up-to-date!\n"
          ]
        }
      ]
    },
    {
      "cell_type": "code",
      "metadata": {
        "colab": {
          "base_uri": "https://localhost:8080/",
          "height": 541
        },
        "id": "ds9XbtE-Qmwq",
        "outputId": "316664de-a875-490f-f496-a6da88deef26"
      },
      "source": [
        "def remove_hashtag(df, col = 'text'):\n",
        "    for letter in r'#.][!XR':\n",
        "        df[col] = df[col].astype(str).str.replace(letter,'', regex=True)\n",
        "\n",
        "remove_hashtag(clean_df)\n",
        "clean_df"
      ],
      "execution_count": null,
      "outputs": [
        {
          "output_type": "stream",
          "name": "stderr",
          "text": [
            "/usr/local/lib/python3.7/dist-packages/ipykernel_launcher.py:3: SettingWithCopyWarning: \n",
            "A value is trying to be set on a copy of a slice from a DataFrame.\n",
            "Try using .loc[row_indexer,col_indexer] = value instead\n",
            "\n",
            "See the caveats in the documentation: https://pandas.pydata.org/pandas-docs/stable/user_guide/indexing.html#returning-a-view-versus-a-copy\n",
            "  This is separate from the ipykernel package so we can avoid doing imports until\n"
          ]
        },
        {
          "output_type": "execute_result",
          "data": {
            "text/html": [
              "<div>\n",
              "<style scoped>\n",
              "    .dataframe tbody tr th:only-of-type {\n",
              "        vertical-align: middle;\n",
              "    }\n",
              "\n",
              "    .dataframe tbody tr th {\n",
              "        vertical-align: top;\n",
              "    }\n",
              "\n",
              "    .dataframe thead th {\n",
              "        text-align: right;\n",
              "    }\n",
              "</style>\n",
              "<table border=\"1\" class=\"dataframe\">\n",
              "  <thead>\n",
              "    <tr style=\"text-align: right;\">\n",
              "      <th></th>\n",
              "      <th>text</th>\n",
              "      <th>targe</th>\n",
              "    </tr>\n",
              "  </thead>\n",
              "  <tbody>\n",
              "    <tr>\n",
              "      <th>0</th>\n",
              "      <td>بين أستوديوهات ورزازات وصحراء مرزوكة وآثار ولي...</td>\n",
              "      <td>0</td>\n",
              "    </tr>\n",
              "    <tr>\n",
              "      <th>1</th>\n",
              "      <td>قررت النجمة الأمريكية أوبرا وينفري ألا يقتصر ع...</td>\n",
              "      <td>0</td>\n",
              "    </tr>\n",
              "    <tr>\n",
              "      <th>2</th>\n",
              "      <td>أخبارنا المغربية الوزاني تصوير الشملالي ألهب ا...</td>\n",
              "      <td>0</td>\n",
              "    </tr>\n",
              "    <tr>\n",
              "      <th>3</th>\n",
              "      <td>اخبارنا المغربية قال ابراهيم الراشدي محامي سعد...</td>\n",
              "      <td>0</td>\n",
              "    </tr>\n",
              "    <tr>\n",
              "      <th>4</th>\n",
              "      <td>تزال صناعة الجلود في المغرب تتبع الطريقة التقل...</td>\n",
              "      <td>0</td>\n",
              "    </tr>\n",
              "    <tr>\n",
              "      <th>...</th>\n",
              "      <td>...</td>\n",
              "      <td>...</td>\n",
              "    </tr>\n",
              "    <tr>\n",
              "      <th>111723</th>\n",
              "      <td>اللاعب تأخر في العودة إلى التداريب والمدرب غاض...</td>\n",
              "      <td>4</td>\n",
              "    </tr>\n",
              "    <tr>\n",
              "      <th>111724</th>\n",
              "      <td>المشرف العام لحسنية أكادير قال إنه سيغادر الفر...</td>\n",
              "      <td>4</td>\n",
              "    </tr>\n",
              "    <tr>\n",
              "      <th>111725</th>\n",
              "      <td>نسب إليه نتائج الوداد وصحوة الرجاء وآخر صيحاته...</td>\n",
              "      <td>4</td>\n",
              "    </tr>\n",
              "    <tr>\n",
              "      <th>111726</th>\n",
              "      <td>ستحتضن الرباط في الفترة مابين يوليوز المقبل دو...</td>\n",
              "      <td>4</td>\n",
              "    </tr>\n",
              "    <tr>\n",
              "      <th>111727</th>\n",
              "      <td>رضخ أحمد أهمو رئيس أمل تيزنيت لكرة القدم لضغوط...</td>\n",
              "      <td>4</td>\n",
              "    </tr>\n",
              "  </tbody>\n",
              "</table>\n",
              "<p>108789 rows × 2 columns</p>\n",
              "</div>"
            ],
            "text/plain": [
              "                                                     text  targe\n",
              "0       بين أستوديوهات ورزازات وصحراء مرزوكة وآثار ولي...      0\n",
              "1       قررت النجمة الأمريكية أوبرا وينفري ألا يقتصر ع...      0\n",
              "2       أخبارنا المغربية الوزاني تصوير الشملالي ألهب ا...      0\n",
              "3       اخبارنا المغربية قال ابراهيم الراشدي محامي سعد...      0\n",
              "4       تزال صناعة الجلود في المغرب تتبع الطريقة التقل...      0\n",
              "...                                                   ...    ...\n",
              "111723  اللاعب تأخر في العودة إلى التداريب والمدرب غاض...      4\n",
              "111724  المشرف العام لحسنية أكادير قال إنه سيغادر الفر...      4\n",
              "111725  نسب إليه نتائج الوداد وصحوة الرجاء وآخر صيحاته...      4\n",
              "111726  ستحتضن الرباط في الفترة مابين يوليوز المقبل دو...      4\n",
              "111727  رضخ أحمد أهمو رئيس أمل تيزنيت لكرة القدم لضغوط...      4\n",
              "\n",
              "[108789 rows x 2 columns]"
            ]
          },
          "metadata": {},
          "execution_count": 4
        }
      ]
    },
    {
      "cell_type": "code",
      "metadata": {
        "id": "BLZQKOdwR8Dp"
      },
      "source": [
        "arabic_punctuations = '''`÷×؛<>_()*&^%][ـ،/:\"؟.,'{}~¦+|!”…“–ـ'''\n",
        "english_punctuations = string.punctuation\n",
        "punctuations_list = arabic_punctuations + english_punctuations\n",
        "\n",
        "def remove_punctuations(text):\n",
        "    translator = str.maketrans('', '', punctuations_list)\n",
        "    return text.translate(translator)"
      ],
      "execution_count": null,
      "outputs": []
    },
    {
      "cell_type": "code",
      "metadata": {
        "id": "T9q5fq3yUDXl"
      },
      "source": [
        "def normalize_arabic(text):\n",
        "    text = re.sub(\"[إأآا]\", \"ا\", text)\n",
        "    text = re.sub(\"ى\", \"ي\", text)\n",
        "    text = re.sub(\"ة\", \"ه\", text)\n",
        "    text = re.sub(\"گ\", \"ك\", text)\n",
        "    return text"
      ],
      "execution_count": null,
      "outputs": []
    },
    {
      "cell_type": "code",
      "metadata": {
        "id": "rkj13yzcULhl"
      },
      "source": [
        "def remove_repeating_char(text):\n",
        "    return re.sub(r'(.)\\1+', r'\\1', text)"
      ],
      "execution_count": null,
      "outputs": []
    },
    {
      "cell_type": "code",
      "metadata": {
        "id": "UKiYYcu1VRjD"
      },
      "source": [
        "def processDocument(doc, stemmer): \n",
        "\n",
        "    #Replace @username with empty string\n",
        "    doc = re.sub(r'@[^\\s]+', ' ', doc)\n",
        "    doc = re.sub(r'_', ' ', doc)\n",
        "    doc = re.sub(r'\\n', ' ', doc)\n",
        "    doc = re.sub(r'[a-z,A-Z]', '', doc)\n",
        "    doc = re.sub(r'\\d', '', doc)\n",
        "    #Convert www.* or https?://* to \" \"\n",
        "    doc = re.sub('((www\\.[^\\s]+)|(https?://[^\\s]+))',' ',doc)\n",
        "    #Replace #word with word\n",
        "    doc = re.sub(r'#([^\\s]+)', r'\\1', doc)\n",
        "    # remove punctuations\n",
        "    doc= remove_punctuations(doc)\n",
        "    # normalize the tweet\n",
        "    doc= normalize_arabic(doc)\n",
        "    # remove repeated letters\n",
        "    doc=remove_repeating_char(doc)\n",
        "    #stemming\n",
        "    doc = stemmer.stem(doc)\n",
        "    \n",
        "    return doc"
      ],
      "execution_count": null,
      "outputs": []
    },
    {
      "cell_type": "code",
      "metadata": {
        "colab": {
          "base_uri": "https://localhost:8080/",
          "height": 541
        },
        "id": "0bEtddEZVxSV",
        "outputId": "b6e8653f-7194-4688-c820-d18c3d3fce0b"
      },
      "source": [
        "stemmer = ISRIStemmer()\n",
        "clean_df[\"text\"] = clean_df['text'].apply(lambda x: processDocument(x, stemmer))\n",
        "clean_df\n"
      ],
      "execution_count": null,
      "outputs": [
        {
          "output_type": "stream",
          "name": "stderr",
          "text": [
            "/usr/local/lib/python3.7/dist-packages/ipykernel_launcher.py:2: SettingWithCopyWarning: \n",
            "A value is trying to be set on a copy of a slice from a DataFrame.\n",
            "Try using .loc[row_indexer,col_indexer] = value instead\n",
            "\n",
            "See the caveats in the documentation: https://pandas.pydata.org/pandas-docs/stable/user_guide/indexing.html#returning-a-view-versus-a-copy\n",
            "  \n"
          ]
        },
        {
          "output_type": "execute_result",
          "data": {
            "text/html": [
              "<div>\n",
              "<style scoped>\n",
              "    .dataframe tbody tr th:only-of-type {\n",
              "        vertical-align: middle;\n",
              "    }\n",
              "\n",
              "    .dataframe tbody tr th {\n",
              "        vertical-align: top;\n",
              "    }\n",
              "\n",
              "    .dataframe thead th {\n",
              "        text-align: right;\n",
              "    }\n",
              "</style>\n",
              "<table border=\"1\" class=\"dataframe\">\n",
              "  <thead>\n",
              "    <tr style=\"text-align: right;\">\n",
              "      <th></th>\n",
              "      <th>text</th>\n",
              "      <th>targe</th>\n",
              "    </tr>\n",
              "  </thead>\n",
              "  <tbody>\n",
              "    <tr>\n",
              "      <th>0</th>\n",
              "      <td>بين استوديوهات ورزازات وصحراء مرزوكه واثار ولي...</td>\n",
              "      <td>0</td>\n",
              "    </tr>\n",
              "    <tr>\n",
              "      <th>1</th>\n",
              "      <td>قرت النجمه الامريكيه اوبرا وينفري الا يقتصر عم...</td>\n",
              "      <td>0</td>\n",
              "    </tr>\n",
              "    <tr>\n",
              "      <th>2</th>\n",
              "      <td>اخبارنا المغربيه الوزاني تصوير الشملالي الهب ا...</td>\n",
              "      <td>0</td>\n",
              "    </tr>\n",
              "    <tr>\n",
              "      <th>3</th>\n",
              "      <td>اخبارنا المغربيه قال ابراهيم الراشدي محامي سعد...</td>\n",
              "      <td>0</td>\n",
              "    </tr>\n",
              "    <tr>\n",
              "      <th>4</th>\n",
              "      <td>تزال صناعه الجلود في المغرب تبع الطريقه التقلي...</td>\n",
              "      <td>0</td>\n",
              "    </tr>\n",
              "    <tr>\n",
              "      <th>...</th>\n",
              "      <td>...</td>\n",
              "      <td>...</td>\n",
              "    </tr>\n",
              "    <tr>\n",
              "      <th>111723</th>\n",
              "      <td>اعب تاخر في العوده الي التداريب والمدرب غاضب و...</td>\n",
              "      <td>4</td>\n",
              "    </tr>\n",
              "    <tr>\n",
              "      <th>111724</th>\n",
              "      <td>مشرف العام لحسنيه اكادير قال انه سيغادر الفريق...</td>\n",
              "      <td>4</td>\n",
              "    </tr>\n",
              "    <tr>\n",
              "      <th>111725</th>\n",
              "      <td>نسب اليه نتائج الوداد وصحوه الرجاء واخر صيحاته...</td>\n",
              "      <td>4</td>\n",
              "    </tr>\n",
              "    <tr>\n",
              "      <th>111726</th>\n",
              "      <td>ستحتضن الرباط في الفتره مابين يوليوز المقبل دو...</td>\n",
              "      <td>4</td>\n",
              "    </tr>\n",
              "    <tr>\n",
              "      <th>111727</th>\n",
              "      <td>رضخ احمد اهمو رئيس امل تيزنيت لكره القدم لضغوط...</td>\n",
              "      <td>4</td>\n",
              "    </tr>\n",
              "  </tbody>\n",
              "</table>\n",
              "<p>108789 rows × 2 columns</p>\n",
              "</div>"
            ],
            "text/plain": [
              "                                                     text  targe\n",
              "0       بين استوديوهات ورزازات وصحراء مرزوكه واثار ولي...      0\n",
              "1       قرت النجمه الامريكيه اوبرا وينفري الا يقتصر عم...      0\n",
              "2       اخبارنا المغربيه الوزاني تصوير الشملالي الهب ا...      0\n",
              "3       اخبارنا المغربيه قال ابراهيم الراشدي محامي سعد...      0\n",
              "4       تزال صناعه الجلود في المغرب تبع الطريقه التقلي...      0\n",
              "...                                                   ...    ...\n",
              "111723  اعب تاخر في العوده الي التداريب والمدرب غاضب و...      4\n",
              "111724  مشرف العام لحسنيه اكادير قال انه سيغادر الفريق...      4\n",
              "111725  نسب اليه نتائج الوداد وصحوه الرجاء واخر صيحاته...      4\n",
              "111726  ستحتضن الرباط في الفتره مابين يوليوز المقبل دو...      4\n",
              "111727  رضخ احمد اهمو رئيس امل تيزنيت لكره القدم لضغوط...      4\n",
              "\n",
              "[108789 rows x 2 columns]"
            ]
          },
          "metadata": {},
          "execution_count": 9
        }
      ]
    },
    {
      "cell_type": "code",
      "metadata": {
        "colab": {
          "base_uri": "https://localhost:8080/",
          "height": 375
        },
        "id": "gXSK3fMnWemG",
        "outputId": "16ca8a7d-faaf-490a-db2e-ef41268e6e89"
      },
      "source": [
        "tokenizer = RegexpTokenizer(r'\\w+')\n",
        "clean_df[\"text\"] = clean_df[\"text\"].apply(tokenizer.tokenize)\n",
        "clean_df"
      ],
      "execution_count": null,
      "outputs": [
        {
          "output_type": "error",
          "ename": "TypeError",
          "evalue": "ignored",
          "traceback": [
            "\u001b[0;31m---------------------------------------------------------------------------\u001b[0m",
            "\u001b[0;31mTypeError\u001b[0m                                 Traceback (most recent call last)",
            "\u001b[0;32m<ipython-input-11-f5d714c6709b>\u001b[0m in \u001b[0;36m<module>\u001b[0;34m()\u001b[0m\n\u001b[1;32m      1\u001b[0m \u001b[0mtokenizer\u001b[0m \u001b[0;34m=\u001b[0m \u001b[0mRegexpTokenizer\u001b[0m\u001b[0;34m(\u001b[0m\u001b[0;34mr'\\w+'\u001b[0m\u001b[0;34m)\u001b[0m\u001b[0;34m\u001b[0m\u001b[0;34m\u001b[0m\u001b[0m\n\u001b[0;32m----> 2\u001b[0;31m \u001b[0mclean_df\u001b[0m\u001b[0;34m[\u001b[0m\u001b[0;34m\"text\"\u001b[0m\u001b[0;34m]\u001b[0m \u001b[0;34m=\u001b[0m \u001b[0mclean_df\u001b[0m\u001b[0;34m[\u001b[0m\u001b[0;34m\"text\"\u001b[0m\u001b[0;34m]\u001b[0m\u001b[0;34m.\u001b[0m\u001b[0mapply\u001b[0m\u001b[0;34m(\u001b[0m\u001b[0mtokenizer\u001b[0m\u001b[0;34m.\u001b[0m\u001b[0mtokenize\u001b[0m\u001b[0;34m)\u001b[0m\u001b[0;34m\u001b[0m\u001b[0;34m\u001b[0m\u001b[0m\n\u001b[0m\u001b[1;32m      3\u001b[0m \u001b[0mclean_df\u001b[0m\u001b[0;34m\u001b[0m\u001b[0;34m\u001b[0m\u001b[0m\n",
            "\u001b[0;32m/usr/local/lib/python3.7/dist-packages/pandas/core/series.py\u001b[0m in \u001b[0;36mapply\u001b[0;34m(self, func, convert_dtype, args, **kwds)\u001b[0m\n\u001b[1;32m   4211\u001b[0m             \u001b[0;32melse\u001b[0m\u001b[0;34m:\u001b[0m\u001b[0;34m\u001b[0m\u001b[0;34m\u001b[0m\u001b[0m\n\u001b[1;32m   4212\u001b[0m                 \u001b[0mvalues\u001b[0m \u001b[0;34m=\u001b[0m \u001b[0mself\u001b[0m\u001b[0;34m.\u001b[0m\u001b[0mastype\u001b[0m\u001b[0;34m(\u001b[0m\u001b[0mobject\u001b[0m\u001b[0;34m)\u001b[0m\u001b[0;34m.\u001b[0m\u001b[0m_values\u001b[0m\u001b[0;34m\u001b[0m\u001b[0;34m\u001b[0m\u001b[0m\n\u001b[0;32m-> 4213\u001b[0;31m                 \u001b[0mmapped\u001b[0m \u001b[0;34m=\u001b[0m \u001b[0mlib\u001b[0m\u001b[0;34m.\u001b[0m\u001b[0mmap_infer\u001b[0m\u001b[0;34m(\u001b[0m\u001b[0mvalues\u001b[0m\u001b[0;34m,\u001b[0m \u001b[0mf\u001b[0m\u001b[0;34m,\u001b[0m \u001b[0mconvert\u001b[0m\u001b[0;34m=\u001b[0m\u001b[0mconvert_dtype\u001b[0m\u001b[0;34m)\u001b[0m\u001b[0;34m\u001b[0m\u001b[0;34m\u001b[0m\u001b[0m\n\u001b[0m\u001b[1;32m   4214\u001b[0m \u001b[0;34m\u001b[0m\u001b[0m\n\u001b[1;32m   4215\u001b[0m         \u001b[0;32mif\u001b[0m \u001b[0mlen\u001b[0m\u001b[0;34m(\u001b[0m\u001b[0mmapped\u001b[0m\u001b[0;34m)\u001b[0m \u001b[0;32mand\u001b[0m \u001b[0misinstance\u001b[0m\u001b[0;34m(\u001b[0m\u001b[0mmapped\u001b[0m\u001b[0;34m[\u001b[0m\u001b[0;36m0\u001b[0m\u001b[0;34m]\u001b[0m\u001b[0;34m,\u001b[0m \u001b[0mSeries\u001b[0m\u001b[0;34m)\u001b[0m\u001b[0;34m:\u001b[0m\u001b[0;34m\u001b[0m\u001b[0;34m\u001b[0m\u001b[0m\n",
            "\u001b[0;32mpandas/_libs/lib.pyx\u001b[0m in \u001b[0;36mpandas._libs.lib.map_infer\u001b[0;34m()\u001b[0m\n",
            "\u001b[0;32m/usr/local/lib/python3.7/dist-packages/nltk/tokenize/regexp.py\u001b[0m in \u001b[0;36mtokenize\u001b[0;34m(self, text)\u001b[0m\n\u001b[1;32m    127\u001b[0m         \u001b[0;31m# If our regexp matches tokens, use re.findall:\u001b[0m\u001b[0;34m\u001b[0m\u001b[0;34m\u001b[0m\u001b[0;34m\u001b[0m\u001b[0m\n\u001b[1;32m    128\u001b[0m         \u001b[0;32melse\u001b[0m\u001b[0;34m:\u001b[0m\u001b[0;34m\u001b[0m\u001b[0;34m\u001b[0m\u001b[0m\n\u001b[0;32m--> 129\u001b[0;31m             \u001b[0;32mreturn\u001b[0m \u001b[0mself\u001b[0m\u001b[0;34m.\u001b[0m\u001b[0m_regexp\u001b[0m\u001b[0;34m.\u001b[0m\u001b[0mfindall\u001b[0m\u001b[0;34m(\u001b[0m\u001b[0mtext\u001b[0m\u001b[0;34m)\u001b[0m\u001b[0;34m\u001b[0m\u001b[0;34m\u001b[0m\u001b[0m\n\u001b[0m\u001b[1;32m    130\u001b[0m \u001b[0;34m\u001b[0m\u001b[0m\n\u001b[1;32m    131\u001b[0m     \u001b[0;32mdef\u001b[0m \u001b[0mspan_tokenize\u001b[0m\u001b[0;34m(\u001b[0m\u001b[0mself\u001b[0m\u001b[0;34m,\u001b[0m \u001b[0mtext\u001b[0m\u001b[0;34m)\u001b[0m\u001b[0;34m:\u001b[0m\u001b[0;34m\u001b[0m\u001b[0;34m\u001b[0m\u001b[0m\n",
            "\u001b[0;31mTypeError\u001b[0m: expected string or bytes-like object"
          ]
        }
      ]
    },
    {
      "cell_type": "code",
      "metadata": {
        "colab": {
          "base_uri": "https://localhost:8080/",
          "height": 541
        },
        "id": "i6EIw4J3X2yt",
        "outputId": "497f4c60-bf60-477c-ec63-620f531d0a31"
      },
      "source": [
        "stopwords_list = stopwords.words('arabic')\n",
        "\n",
        "clean_df[\"text\"] = clean_df[\"text\"].apply(lambda x: [item for item in x if item not in stopwords_list])\n",
        "clean_df\n",
        "\n"
      ],
      "execution_count": null,
      "outputs": [
        {
          "output_type": "stream",
          "name": "stderr",
          "text": [
            "/usr/local/lib/python3.7/dist-packages/ipykernel_launcher.py:3: SettingWithCopyWarning: \n",
            "A value is trying to be set on a copy of a slice from a DataFrame.\n",
            "Try using .loc[row_indexer,col_indexer] = value instead\n",
            "\n",
            "See the caveats in the documentation: https://pandas.pydata.org/pandas-docs/stable/user_guide/indexing.html#returning-a-view-versus-a-copy\n",
            "  This is separate from the ipykernel package so we can avoid doing imports until\n"
          ]
        },
        {
          "output_type": "execute_result",
          "data": {
            "text/html": [
              "<div>\n",
              "<style scoped>\n",
              "    .dataframe tbody tr th:only-of-type {\n",
              "        vertical-align: middle;\n",
              "    }\n",
              "\n",
              "    .dataframe tbody tr th {\n",
              "        vertical-align: top;\n",
              "    }\n",
              "\n",
              "    .dataframe thead th {\n",
              "        text-align: right;\n",
              "    }\n",
              "</style>\n",
              "<table border=\"1\" class=\"dataframe\">\n",
              "  <thead>\n",
              "    <tr style=\"text-align: right;\">\n",
              "      <th></th>\n",
              "      <th>text</th>\n",
              "      <th>targe</th>\n",
              "    </tr>\n",
              "  </thead>\n",
              "  <tbody>\n",
              "    <tr>\n",
              "      <th>0</th>\n",
              "      <td>[استوديوهات, ورزازات, وصحراء, مرزوكه, واثار, و...</td>\n",
              "      <td>0</td>\n",
              "    </tr>\n",
              "    <tr>\n",
              "      <th>1</th>\n",
              "      <td>[قرت, النجمه, الامريكيه, اوبرا, وينفري, الا, ي...</td>\n",
              "      <td>0</td>\n",
              "    </tr>\n",
              "    <tr>\n",
              "      <th>2</th>\n",
              "      <td>[اخبارنا, المغربيه, الوزاني, تصوير, الشملالي, ...</td>\n",
              "      <td>0</td>\n",
              "    </tr>\n",
              "    <tr>\n",
              "      <th>3</th>\n",
              "      <td>[اخبارنا, المغربيه, قال, ابراهيم, الراشدي, محا...</td>\n",
              "      <td>0</td>\n",
              "    </tr>\n",
              "    <tr>\n",
              "      <th>4</th>\n",
              "      <td>[تزال, صناعه, الجلود, المغرب, تبع, الطريقه, ال...</td>\n",
              "      <td>0</td>\n",
              "    </tr>\n",
              "    <tr>\n",
              "      <th>...</th>\n",
              "      <td>...</td>\n",
              "      <td>...</td>\n",
              "    </tr>\n",
              "    <tr>\n",
              "      <th>111723</th>\n",
              "      <td>[اعب, تاخر, العوده, الي, التداريب, والمدرب, غا...</td>\n",
              "      <td>4</td>\n",
              "    </tr>\n",
              "    <tr>\n",
              "      <th>111724</th>\n",
              "      <td>[مشرف, العام, لحسنيه, اكادير, قال, انه, سيغادر...</td>\n",
              "      <td>4</td>\n",
              "    </tr>\n",
              "    <tr>\n",
              "      <th>111725</th>\n",
              "      <td>[نسب, اليه, نتائج, الوداد, وصحوه, الرجاء, واخر...</td>\n",
              "      <td>4</td>\n",
              "    </tr>\n",
              "    <tr>\n",
              "      <th>111726</th>\n",
              "      <td>[ستحتضن, الرباط, الفتره, مابين, يوليوز, المقبل...</td>\n",
              "      <td>4</td>\n",
              "    </tr>\n",
              "    <tr>\n",
              "      <th>111727</th>\n",
              "      <td>[رضخ, احمد, اهمو, رئيس, امل, تيزنيت, لكره, الق...</td>\n",
              "      <td>4</td>\n",
              "    </tr>\n",
              "  </tbody>\n",
              "</table>\n",
              "<p>108789 rows × 2 columns</p>\n",
              "</div>"
            ],
            "text/plain": [
              "                                                     text  targe\n",
              "0       [استوديوهات, ورزازات, وصحراء, مرزوكه, واثار, و...      0\n",
              "1       [قرت, النجمه, الامريكيه, اوبرا, وينفري, الا, ي...      0\n",
              "2       [اخبارنا, المغربيه, الوزاني, تصوير, الشملالي, ...      0\n",
              "3       [اخبارنا, المغربيه, قال, ابراهيم, الراشدي, محا...      0\n",
              "4       [تزال, صناعه, الجلود, المغرب, تبع, الطريقه, ال...      0\n",
              "...                                                   ...    ...\n",
              "111723  [اعب, تاخر, العوده, الي, التداريب, والمدرب, غا...      4\n",
              "111724  [مشرف, العام, لحسنيه, اكادير, قال, انه, سيغادر...      4\n",
              "111725  [نسب, اليه, نتائج, الوداد, وصحوه, الرجاء, واخر...      4\n",
              "111726  [ستحتضن, الرباط, الفتره, مابين, يوليوز, المقبل...      4\n",
              "111727  [رضخ, احمد, اهمو, رئيس, امل, تيزنيت, لكره, الق...      4\n",
              "\n",
              "[108789 rows x 2 columns]"
            ]
          },
          "metadata": {},
          "execution_count": 12
        }
      ]
    },
    {
      "cell_type": "code",
      "metadata": {
        "colab": {
          "base_uri": "https://localhost:8080/",
          "height": 279
        },
        "id": "1SsJ36m9YJtf",
        "outputId": "608f1355-c66d-47de-d345-698fafc85a7f"
      },
      "source": [
        "import seaborn as sns \n",
        "import matplotlib.pyplot as plt\n",
        "\n",
        "sns.countplot(data= clean_df, x = \"targe\")\n",
        "plt.show()"
      ],
      "execution_count": null,
      "outputs": [
        {
          "output_type": "display_data",
          "data": {
            "image/png": "[encoded data removed]",
            "text/plain": [
              "<Figure size 432x288 with 1 Axes>"
            ]
          },
          "metadata": {
            "needs_background": "light"
          }
        }
      ]
    },
    {
      "cell_type": "code",
      "metadata": {
        "id": "nLGJqJlBYyeh"
      },
      "source": [
        "def countPropetries(df):\n",
        "    all_words = [word for tokens in df[\"text\"] for word in tokens]\n",
        "    sentence_lengths = [len(tokens) for tokens in df[\"text\"]]\n",
        "\n",
        "    VOCAB = sorted(list(set(all_words)))\n",
        "\n",
        "    print(\"%s words total, with a vocabulary size of %s\" % (len(all_words), len(VOCAB)))\n",
        "    print(\"Max sentence length is %s\" % np.max(sentence_lengths))\n",
        "    return all_words"
      ],
      "execution_count": null,
      "outputs": []
    },
    {
      "cell_type": "code",
      "metadata": {
        "colab": {
          "base_uri": "https://localhost:8080/"
        },
        "id": "llW8jps4Y0lF",
        "outputId": "263dbd93-60d9-42a4-be76-b09469f7956b"
      },
      "source": [
        "culture_df = clean_df.loc[clean_df[\"targe\"] == 0]\n",
        "diverse_df = clean_df.loc[clean_df[\"targe\"] == 1]\n",
        "economy_df = clean_df.loc[clean_df[\"targe\"] == 2]\n",
        "politic_df = clean_df.loc[clean_df[\"targe\"] == 3]\n",
        "sport_df = clean_df.loc[clean_df[\"targe\"] == 4]\n",
        "\n",
        "print(\"Culture : \")\n",
        "culture_words = countPropetries(culture_df)\n",
        "print(\"\\nDiverse : \")\n",
        "diverse_words = countPropetries(diverse_df)\n",
        "print(\"\\nEconomy : \")\n",
        "economy_words = countPropetries(economy_df)\n",
        "print(\"\\nPolitics : \")\n",
        "politic_words = countPropetries(politic_df)\n",
        "print(\"\\nSport : \")\n",
        "sport_words = countPropetries(sport_df)"
      ],
      "execution_count": null,
      "outputs": [
        {
          "output_type": "stream",
          "name": "stdout",
          "text": [
            "Culture : \n",
            "3222605 words total, with a vocabulary size of 171472\n",
            "Max sentence length is 3796\n",
            "\n",
            "Diverse : \n",
            "3941414 words total, with a vocabulary size of 127260\n",
            "Max sentence length is 1508\n",
            "\n",
            "Economy : \n",
            "3160382 words total, with a vocabulary size of 110864\n",
            "Max sentence length is 2748\n",
            "\n",
            "Politics : \n",
            "5022092 words total, with a vocabulary size of 165119\n",
            "Max sentence length is 4048\n",
            "\n",
            "Sport : \n",
            "9080158 words total, with a vocabulary size of 181523\n",
            "Max sentence length is 2119\n"
          ]
        }
      ]
    },
    {
      "cell_type": "code",
      "metadata": {
        "id": "oPhH93Q0aEnW"
      },
      "source": [
        "from sklearn.feature_extraction.text import TfidfVectorizer\n",
        "from sklearn import preprocessing\n",
        "from sklearn.model_selection import train_test_split\n",
        "\n",
        "from sklearn.pipeline import Pipeline\n",
        "from sklearn.svm import SVC\n",
        "\n",
        "y = clean_df['targe']\n",
        "X = clean_df['text']\n",
        "\n",
        "X_train, X_test, y_train, y_test = train_test_split(X, y, test_size=0.25, random_state=2)"
      ],
      "execution_count": null,
      "outputs": []
    },
    {
      "cell_type": "code",
      "metadata": {
        "id": "4TezLGOmcL_0"
      },
      "source": [
        "word_vectorizer = TfidfVectorizer(\n",
        "    sublinear_tf=True,\n",
        "    strip_accents='unicode',\n",
        "    analyzer='word',\n",
        "    ngram_range=(1, 1),\n",
        "    max_features =10000)\n"
      ],
      "execution_count": null,
      "outputs": []
    },
    {
      "cell_type": "code",
      "metadata": {
        "colab": {
          "base_uri": "https://localhost:8080/"
        },
        "id": "W5d-y8oIcaaL",
        "outputId": "54ad6520-a711-47bc-d785-87bf8d6dfd83"
      },
      "source": [
        "model = Pipeline([\n",
        "                    (\"tfidf\", word_vectorizer), # convert words to numbers using tfidf\n",
        "                    (\"clf\", SVC()) # model the text\n",
        "])\n",
        "\n",
        "# Fit the pipeline to the training data\n",
        "model.fit(X_train.astype('str'), y_train)\n"
      ],
      "execution_count": null,
      "outputs": [
        {
          "output_type": "execute_result",
          "data": {
            "text/plain": [
              "Pipeline(memory=None,\n",
              "         steps=[('tfidf',\n",
              "                 TfidfVectorizer(analyzer='word', binary=False,\n",
              "                                 decode_error='strict',\n",
              "                                 dtype=<class 'numpy.float64'>,\n",
              "                                 encoding='utf-8', input='content',\n",
              "                                 lowercase=True, max_df=1.0, max_features=10000,\n",
              "                                 min_df=1, ngram_range=(1, 1), norm='l2',\n",
              "                                 preprocessor=None, smooth_idf=True,\n",
              "                                 stop_words=None, strip_accents='unicode',\n",
              "                                 sublinear_tf=True,\n",
              "                                 token_pattern='(?u)\\\\b\\\\w\\\\w+\\\\b',\n",
              "                                 tokenizer=None, use_idf=True,\n",
              "                                 vocabulary=None)),\n",
              "                ('clf',\n",
              "                 SVC(C=1.0, break_ties=False, cache_size=200, class_weight=None,\n",
              "                     coef0=0.0, decision_function_shape='ovr', degree=3,\n",
              "                     gamma='scale', kernel='rbf', max_iter=-1,\n",
              "                     probability=False, random_state=None, shrinking=True,\n",
              "                     tol=0.001, verbose=False))],\n",
              "         verbose=False)"
            ]
          },
          "metadata": {},
          "execution_count": 21
        }
      ]
    },
    {
      "cell_type": "code",
      "metadata": {
        "colab": {
          "base_uri": "https://localhost:8080/"
        },
        "id": "rFsOcb6do-hZ",
        "outputId": "47af9f23-94d3-424f-e25b-ddd01ae6275f"
      },
      "source": [
        "from sklearn.metrics import accuracy_score, precision_recall_fscore_support\n",
        "\n",
        "def calculate_results(y_true, y_pred):\n",
        "  # Calculate model accuracy\n",
        "  model_accuracy = accuracy_score(y_true, y_pred) * 100\n",
        "  # Calculate model precision, recall and f1 score using \"weighted\" average\n",
        "  model_precision, model_recall, model_f1, _ = precision_recall_fscore_support(y_true, y_pred, average=\"weighted\")\n",
        "  model_results = {\"accuracy\": model_accuracy,\n",
        "                  \"precision\": model_precision,\n",
        "                  \"recall\": model_recall,\n",
        "                  \"f1\": model_f1}\n",
        "  return model_results\n",
        "\n",
        "y_pred = model.predict(X_test.astype('str'))\n",
        "result = calculate_results(y_test, y_pred)\n",
        "result"
      ],
      "execution_count": null,
      "outputs": [
        {
          "output_type": "execute_result",
          "data": {
            "text/plain": [
              "{'accuracy': 95.96293845135672,\n",
              " 'f1': 0.959666894191589,\n",
              " 'precision': 0.9597759380044202,\n",
              " 'recall': 0.9596293845135672}"
            ]
          },
          "metadata": {},
          "execution_count": 23
        }
      ]
    },
    {
      "cell_type": "code",
      "metadata": {
        "colab": {
          "base_uri": "https://localhost:8080/",
          "height": 111
        },
        "id": "aJgaSNlKpRo4",
        "outputId": "52e04a91-e6cb-4232-a698-a1bd18e0ce39"
      },
      "source": [
        "data = [[\"\"\"ذكرت تقارير صحفية، مؤخرا، أن نجم كرة القدم الأرجنتيني، ليونيل ميسي، اختار أن يقيم في قصر فخم، ضواحي العاصمة الفرنسية، مفضلا ألا يبقى في فندق فخم، جاء إليه، الشهر الماضي، قادما من إسبانيا\n",
        "وبحسب صحيفة ديلي ستار البريطانية، فإن ميسي ينوي استئجار القصر الفخم الذي تقدر قيمته المالية بـ41 مليون جنيه إسترليني.\n",
        "ويتجه ميسي إلى الإقامة في القصر مع عائلته، فيما كان قد قضى الشهر الماضي، بفندق من خمسة نجوم في وسط العاصمة الفرنسية.\n",
        "لكن يبدو أن ميسي يريد الاستقرار في بيت خاص، بخلاف ما قام به جوزيه مورينيو الذي ظل يسكن في فندق عندما تولى تدريب نادي مانشستر يونايتد الإنجليزي.\n",
        "ويعرف بيت ميسي الجديد بـالقصر الوردي، وهو ذو تاريخ عريق لأنه استضاف الرئيس الفرنسي الراحل، شارل ديغول، لثلاثة أيام، سنة 1940، خلال الحرب العالمية الثانية.\n",
        "وتصل مساحة القصر الوردي الذي ستسكنه عائلة البرغوث إلى ألفي متر مربع، وهو مشيد في سنة 1899.\"\"\"\n",
        "],\n",
        "[\"\"\"\n",
        "أطلق مهاجم منتخب إنجلترا ونادي ريال مدريد السابق، مايكل أوين، تصريحات غريبة، تتعلق بضم باريس سان جرمان لمهاجم برشلونة، الأرجنتيني ليونيل ميسي.\n",
        "واعتبر مايكل أوين أن باريس سان جرمان، يبدو أضعف مع نجم برشلونة السابق، الأرجنتيني ليونيل ميسي.\n",
        "وفي تصريح لقناة بي تي سبورت، قال أوين إن تواجد لاعبين مميزين في سان جرمان مثل ميسي وكيليان مبابي ونيمار، يجعل الفريق يلعب على نحو أضعف.\n",
        "وأضاف: لا أعرف لماذا يميل كثيرون إلى ترشيح سان جرمان للفوز بدوري أبطال أوروبا. أعتقد أن الفرق الإنجليزية مثل تشلسي وليفربول ومانشستر سيتي أفضل بكثير من النادي الفرنسي.\"\"\"]]\n",
        "\n",
        "new_df = pd.DataFrame(data, columns = ['content'])\n",
        "\n",
        "\n",
        "def prepareData(df):\n",
        "    remove_hashtag(df, 'content')\n",
        "    df[\"content\"] = df['content'].apply(lambda x: processDocument(x, stemmer))\n",
        "    tokenizer = RegexpTokenizer(r'\\w+')\n",
        "    df[\"content\"] = df[\"content\"].apply(tokenizer.tokenize)\n",
        "    stopwords_list = stopwords.words('arabic')\n",
        "    df[\"content\"] = df[\"content\"].apply(lambda x: [item for item in x if item not in stopwords_list])\n",
        "    return df\n",
        "\n",
        "prepared_df = prepareData(new_df)\n",
        "prepared_df"
      ],
      "execution_count": null,
      "outputs": [
        {
          "output_type": "execute_result",
          "data": {
            "text/html": [
              "<div>\n",
              "<style scoped>\n",
              "    .dataframe tbody tr th:only-of-type {\n",
              "        vertical-align: middle;\n",
              "    }\n",
              "\n",
              "    .dataframe tbody tr th {\n",
              "        vertical-align: top;\n",
              "    }\n",
              "\n",
              "    .dataframe thead th {\n",
              "        text-align: right;\n",
              "    }\n",
              "</style>\n",
              "<table border=\"1\" class=\"dataframe\">\n",
              "  <thead>\n",
              "    <tr style=\"text-align: right;\">\n",
              "      <th></th>\n",
              "      <th>content</th>\n",
              "    </tr>\n",
              "  </thead>\n",
              "  <tbody>\n",
              "    <tr>\n",
              "      <th>0</th>\n",
              "      <td>[ذكرت, تقارير, صحفيه, مؤخرا, ان, نجم, كره, الق...</td>\n",
              "    </tr>\n",
              "    <tr>\n",
              "      <th>1</th>\n",
              "      <td>[اطلق, مهاجم, منتخب, انجلترا, ونادي, ريال, مدر...</td>\n",
              "    </tr>\n",
              "  </tbody>\n",
              "</table>\n",
              "</div>"
            ],
            "text/plain": [
              "                                             content\n",
              "0  [ذكرت, تقارير, صحفيه, مؤخرا, ان, نجم, كره, الق...\n",
              "1  [اطلق, مهاجم, منتخب, انجلترا, ونادي, ريال, مدر..."
            ]
          },
          "metadata": {},
          "execution_count": 24
        }
      ]
    },
    {
      "cell_type": "code",
      "metadata": {
        "colab": {
          "base_uri": "https://localhost:8080/"
        },
        "id": "iH3O-tjbva95",
        "outputId": "ae45fcd5-0085-41f2-df32-78e7858e05a3"
      },
      "source": [
        "y_pred = model.predict(prepared_df[\"content\"].astype('str'))\n",
        "y_pred"
      ],
      "execution_count": null,
      "outputs": [
        {
          "output_type": "execute_result",
          "data": {
            "text/plain": [
              "array([4, 4])"
            ]
          },
          "metadata": {},
          "execution_count": 25
        }
      ]
    }
  ]
}